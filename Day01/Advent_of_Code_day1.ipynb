{
  "nbformat": 4,
  "nbformat_minor": 0,
  "metadata": {
    "colab": {
      "provenance": [],
      "authorship_tag": "ABX9TyP4wnUV0aOoOotzDEQeOQGu"
    },
    "kernelspec": {
      "name": "python3",
      "display_name": "Python 3"
    },
    "language_info": {
      "name": "python"
    }
  },
  "cells": [
    {
      "cell_type": "code",
      "source": [
        "with open('data.txt', 'r') as file:\n",
        "    i = file.read()\n",
        "# Split the input string into a flat list of numbers (as strings)\n",
        "p = i.split()\n",
        "\n",
        "# Initialize two empty lists to store numbers from even and odd indices\n",
        "left = []\n",
        "right = []\n",
        "\n",
        "# Enumerate through the list `p` to access both index and value\n",
        "for i, j in enumerate(p):\n",
        "    if i % 2 == 0:  # Check if the index is even\n",
        "        left.append(int(j))  # Add the number to the 'left' list (convert to int)\n",
        "    else:  # Index is odd\n",
        "        right.append(int(j))  # Add the number to the 'right' list (convert to int)\n",
        "\n",
        "# Sort both lists in ascending order\n",
        "left.sort()\n",
        "right.sort()\n",
        "\n",
        "# Initialize a variable to store the total difference\n",
        "ans = 0\n",
        "\n",
        "# Iterate through the sorted 'left' and 'right' lists simultaneously\n",
        "for x, y in zip(left, right):\n",
        "    ans = ans + abs(y - x)  # Add the absolute difference between corresponding elements\n",
        "\n",
        "# Print the result\n",
        "print(ans) # Expected result: 1882714"
      ],
      "metadata": {
        "colab": {
          "base_uri": "https://localhost:8080/"
        },
        "id": "A1CHdYFEOzma",
        "outputId": "5e8681d4-6575-4418-981c-59bb549f338e"
      },
      "execution_count": 13,
      "outputs": [
        {
          "output_type": "stream",
          "name": "stdout",
          "text": [
            "1882714\n"
          ]
        }
      ]
    },
    {
      "cell_type": "code",
      "source": [
        "with open('data.txt', 'r') as file:\n",
        "    i = file.read()\n",
        "# Split the input string into a flat list of numbers (as strings)\n",
        "p = i.split()\n",
        "\n",
        "# Initialize two empty lists to store numbers from even and odd indices\n",
        "left = []\n",
        "right = []\n",
        "\n",
        "# Enumerate through the list `p` to access both index and value\n",
        "for i, j in enumerate(p):\n",
        "    if i % 2 == 0:  # Check if the index is even\n",
        "        left.append(int(j))  # Add the number to the 'left' list (convert to int)\n",
        "    else:  # Index is odd\n",
        "        right.append(int(j))  # Add the number to the 'right' list (convert to int)\n",
        "\n",
        "# Initialize a variable to store the result\n",
        "ans = 0\n",
        "\n",
        "# Iterate through each element in the 'left' list\n",
        "for x in left:\n",
        "    # Count the occurrences of the current element `x` in the 'right' list\n",
        "    y = right.count(x)\n",
        "\n",
        "    # Add the product of the element and its count in the 'right' list to the result\n",
        "    ans = ans + (x * y)\n",
        "\n",
        "# Print the final result\n",
        "print(ans)  # Expected result: 19437052\n"
      ],
      "metadata": {
        "colab": {
          "base_uri": "https://localhost:8080/"
        },
        "id": "hcgZaRk0PEGG",
        "outputId": "0293e2eb-418b-453d-d36d-f4c3302f1bbf"
      },
      "execution_count": 12,
      "outputs": [
        {
          "output_type": "stream",
          "name": "stdout",
          "text": [
            "19437052\n"
          ]
        }
      ]
    }
  ]
}